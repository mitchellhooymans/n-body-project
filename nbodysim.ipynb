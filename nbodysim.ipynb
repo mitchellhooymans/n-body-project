{
 "cells": [
  {
   "cell_type": "markdown",
   "metadata": {},
   "source": [
    "# Introduction to n-body Simulations\n",
    "This script is intended to be used as an introduction to making a [n-body simulation](https://en.wikipedia.org/wiki/N-body_simulation) in Python. The notebook uses [newton's law of universal gravitation](https://en.wikipedia.org/wiki/Newton%27s_law_of_universal_gravitation) to simulate the motion of n-bodies in a 3D Space. N-body simulations are a powerful tool for investigating the dynamics of systems of particles. A great example of an n-body simulation is the [Millenium Run](https://en.wikipedia.org/wiki/Millennium_Run) where the matter distribution of the universe was simulatied over cosmic time.\n",
    "\n",
    "Newton's law of universal gravitation is given by the formula:\n",
    "$$ F = G \\frac{m_1 m_2}{r^2} $$\n",
    "where:\n",
    "- $F$ is the force between the masses $m_1$ and $m_2$\n",
    "- $G$ is the gravitational constant\n",
    "- $r$ is the distance between the two masses\n",
    "\n",
    "We can rewrite this formula in its vector form as:\n",
    "\n",
    "$$ \\vec{F} = -G \\frac{m_1 m_2}{|{\\vec{r}}|^2} \\hat{r} $$\n",
    " or\n",
    "$$ \\vec{F} = -G \\frac{m_1 m_2}{|{\\vec{r}}|^3} \\vec{r} $$\n",
    "where:\n",
    "- $\\vec{F}$ is the force vector between the masses $m_1$ and $m_2$\n",
    "- $\\vec{r}$ is the vector pointing from $m_1$ to $m_2$\n",
    "- $\\hat{r}$ is the unit vector pointing from $m_1$ to $m_2$\n",
    "- $|{\\vec{r}}|$ is the magnitude of the vector $\\vec{r}$\n",
    "\n",
    "\n",
    "Simply using F = ma we can find the acceleration of the body due to the force acting on it:\n",
    "$$ \\vec{a} = \\frac{\\vec{F}}{m} $$\n",
    "\n",
    "which is\n",
    "$$ \\vec{a} = -G \\frac{m_2}{|{\\vec{r}}|^3} \\vec{r} $$\n",
    "\n",
    "Finally, we can use the acceleration to update the position and velocity of the body:\n",
    "\n",
    "Using these equations we can compute the force between each body in the simulation, and then use this force to update the position and velocity of each body based on the acceleration. Assuming we are in 3D space we will need to do this for each component of the position and velocity vectors. This is a naive approach to solving the n-body problem, and there are more efficient algorithms that can be used to solve this problem (see [Barnes-Hut simulation](https://en.wikipedia.org/wiki/Barnes%E2%80%93Hut_simulation), [Particle Mesh](https://en.wikipedia.org/wiki/Particle_mesh)).\n",
    "\n"
   ]
  },
  {
   "cell_type": "code",
   "execution_count": 1,
   "metadata": {},
   "outputs": [],
   "source": [
    "# Import the required libraries\n",
    "import numpy as np\n",
    "import matplotlib\n",
    "matplotlib.use('Qt5Agg')\n",
    "import matplotlib.pyplot as plt\n",
    "from mpl_toolkits.mplot3d import Axes3D\n"
   ]
  },
  {
   "cell_type": "code",
   "execution_count": 2,
   "metadata": {},
   "outputs": [],
   "source": [
    "# As we are dealing with masses of the sun, and distances in AU (in relaity we would be dealing with parsecs)\n",
    "\n",
    "# Define the required constants\n",
    "G = 1#6.67430e-11 # m^3 kg^-1 s^-2\n",
    "\n",
    "# We will not be using these in out calculations but are a way of representing our results\n",
    "M_SUN = 1.989e30 # kg\n",
    "AU = 1.496e11 # m\n",
    "YEAR = 365.25*24*60*60 # s\n",
    "\n",
    "# New G if M_SUN = 1 and AU = 1, and time is in years which is 1\n",
    "# G = 4pi^2 or approx G = 1\n",
    "\n",
    "\n",
    "# Define the simulation parameters\n",
    "n_body = 2\n",
    "delta_t = 0.01 # (in time units) think of every step as 1% of a year \n",
    "n_steps = 100000 # how many steps to take\n",
    "show_step = 10 # use this to see every 10th step"
   ]
  },
  {
   "cell_type": "code",
   "execution_count": 3,
   "metadata": {},
   "outputs": [],
   "source": [
    "# Setup the required class\n",
    "class Particle:\n",
    "    # Define the class constructor\n",
    "    \n",
    "    # Inital acceleration\n",
    "    ax = 0\n",
    "    ay = 0\n",
    "    az = 0\n",
    "    \n",
    "    def __init__(self, name, mass, x, y, z, vx, vy, vz):\n",
    "        self.name = name\n",
    "        self.mass = mass\n",
    "        self.x = x\n",
    "        self.y = y\n",
    "        self.z = z\n",
    "        self.vx = vx\n",
    "        self.vy = vy\n",
    "        self.vz = vz\n",
    "        \n",
    "    def __str__(self):\n",
    "        return f\"Particle {self.name} has mass {self.mass} and position ({self.x}, {self.y}, {self.z}) and velocity ({self.vx}, {self.vy}, {self.vz})\"\n",
    "    \n",
    "    # Using the vector form of the equation, calculate the acceleration\n",
    "    def calculate_acceleration(self, other):\n",
    "        # Calculate the distance between the two particles\n",
    "        r = np.sqrt((self.x - other.x)**2 + (self.y - other.y)**2 + (self.z - other.z)**2)\n",
    "        \n",
    "        # Calculate the acceleration ( the factor by which we update our position and velocity in the next step)\n",
    "        a = -G* other.mass / r**3\n",
    "        \n",
    "        # Calculate the components of the acceleration\n",
    "        self.ax = a * (self.x - other.x)\n",
    "        self.ay = a * (self.y - other.y)\n",
    "        self.az = a * (self.z - other.z)\n",
    "\n",
    "    \n",
    "    def update_velocity(self, dt):\n",
    "        self.vx += self.ax * dt\n",
    "        self.vy += self.ay * dt\n",
    "        self.vz += self.az * dt\n",
    "        \n",
    "    def update_position(self, dt):\n",
    "        self.x += self.vx * dt\n",
    "        self.y += self.vy * dt\n",
    "        self.z += self.vz * dt\n",
    "        "
   ]
  },
  {
   "cell_type": "markdown",
   "metadata": {},
   "source": [
    "Now that we have our particle class setup with the required methods, we are able to simulate the motion of these bodies. We will need an algorithm that will run the simulation but first we need to define our particle parameters. We will begin by simulating an Earth-Sun system. The earth and sun will be in terms of solar masses, while the distances will be in terms of astronomical units (AU). The time will be in terms of years.\n"
   ]
  },
  {
   "cell_type": "code",
   "execution_count": 4,
   "metadata": {},
   "outputs": [],
   "source": [
    "# Setup the particles parameters\n",
    "bodies = np.array([])\n",
    "\n",
    "\n",
    "# Inital conditions for the sun, will be in center of the system\n",
    "mass1 = 1\n",
    "x1 = 0\n",
    "y1 = 0\n",
    "z1 = 0\n",
    "vx1 = 0\n",
    "vy1 = 0\n",
    "vz1 = 0\n",
    "\n",
    "\n",
    "# inital conditions for the earth: will be one astronomical unit away from the sun\n",
    "mass2 = 3.003e-6\n",
    "x2 = 1\n",
    "y2 = 0\n",
    "z2 = 0\n",
    "vx2 = 0\n",
    "vy2 = 1#6.283e-2 # not sure but will keep it for now\n",
    "vz2 = 0\n",
    "\n",
    "\n",
    "# Set a velocity for the earth, recalling that there is a force acting on the object to change it\n",
    "# We can calculate the velocity required to keep the earth in orbit\n",
    "# The force of gravity is equal to the centripetal force\n",
    "# Calculating the vx and vy inital conditions\n",
    "# F = ma = m v^2 / r\n",
    "\n",
    "\n",
    "# Setup the particles\n",
    "p1 = Particle(\"Sun\", mass1, x1, y1, z1, vx1, vy1, vz1)\n",
    "p2 = Particle(\"Earth\", mass2, x2, y2, z2, vx2, vy2, vz2)\n",
    "\n",
    "# Adding a third particle\n",
    "mass3 = 3.213e-7\n",
    "x3 = -2\n",
    "y3 = 0\n",
    "z3 = 0\n",
    "vx3 = 0\n",
    "vy3 = -2\n",
    "vz3 = 0\n",
    "\n",
    "p3 = Particle(\"Mars\", mass3, x3, y3, z3, vx3, vy3, vz3)\n",
    "\n",
    "\n",
    "# Put all of the particles into the array\n",
    "bodies = np.append(bodies, p1)\n",
    "bodies = np.append(bodies, p2)\n",
    "bodies = np.append(bodies, p3)\n"
   ]
  },
  {
   "cell_type": "code",
   "execution_count": 5,
   "metadata": {},
   "outputs": [
    {
     "name": "stdout",
     "output_type": "stream",
     "text": [
      "Particle Sun has mass 1 and position (0, 0, 0) and velocity (0, 0, 0)\n",
      "Particle Earth has mass 3.003e-06 and position (1, 0, 0) and velocity (0, 1, 0)\n",
      "Particle Mars has mass 3.213e-07 and position (-2, 0, 0) and velocity (0, -2, 0)\n"
     ]
    }
   ],
   "source": [
    "# Ensure we have all the particles in the array as desired\n",
    "for body in bodies:\n",
    "    print(body)"
   ]
  },
  {
   "cell_type": "markdown",
   "metadata": {},
   "source": [
    "# The Simulation\n",
    "Now that we have setup the conditions for the simulation to run, we will ensure that we can run the simulation. To do this we need to run a loop for which the simulation will run in, iterating over every particle and calculating the force between the particle and the other particle. Additionally we should ensure we are saving the output very time."
   ]
  },
  {
   "cell_type": "code",
   "execution_count": 6,
   "metadata": {},
   "outputs": [
    {
     "name": "stdout",
     "output_type": "stream",
     "text": [
      "Writing output to output.txt\n"
     ]
    },
    {
     "data": {
      "text/plain": [
       "54"
      ]
     },
     "execution_count": 6,
     "metadata": {},
     "output_type": "execute_result"
    }
   ],
   "source": [
    "# Ensure we write the output somewhere\n",
    "print(f\"Writing output to output.txt\")\n",
    "f =  open(\"nbody_output.txt\", \"w\")\n",
    "#f.write(\", \".join([\"Xpos body%i, Ypos body%i\" %(i+1, i+1) for i in range(n_body)])+\", step, time,\\n\")\n",
    "\n",
    "# Writing for all positions: x, y, z\n",
    "f.write(\", \".join([\"Xpos%i, Ypos%i, Zpos%i\" %(i+1, i+1, i+1) for i in range(n_body)])+\", step, time,\\n\")"
   ]
  },
  {
   "cell_type": "code",
   "execution_count": 7,
   "metadata": {},
   "outputs": [],
   "source": [
    "\n",
    "\n",
    "\n",
    "time = 0\n",
    "\n",
    "# We must ensure we are calculating each body with every other body\n",
    "for step in range(n_steps):\n",
    "    \n",
    "    # Have a acceleration array to store\n",
    "    #a = np.zeros((n_body, n_body))\n",
    "    \n",
    "    for j in range(n_body):\n",
    "        for k in range(n_body):\n",
    "            if j != k:\n",
    "                # We must calculate the acceleration of each interacting body\n",
    "                bodies[j].calculate_acceleration(bodies[k]) \n",
    "                bodies[k].calculate_acceleration(bodies[j])\n",
    "    \n",
    "    for j in range(n_body):\n",
    "        bodies[j].update_velocity(delta_t)\n",
    "        bodies[j].update_position(delta_t)\n",
    "        \n",
    "    if step % show_step == 0:\n",
    "        for i in range(0, n_body):\n",
    "            f.write(f\"{bodies[i].x}, {bodies[i].y}, {bodies[i].z},\")\n",
    "        f.write(f\"{step}, {time}\\n\")\n",
    "    \n",
    "    time+=delta_t # Increase the time step a little bit \n",
    "    \n",
    "    \n",
    "# Once the loop is finished, close the file so we can read it.\n",
    "f.close()   \n",
    "        "
   ]
  },
  {
   "cell_type": "markdown",
   "metadata": {},
   "source": [
    "This simulation will output a text file containing the information about the particles at each time step. We can then read in this file and plot the results to see the track for the motion of the particle."
   ]
  },
  {
   "cell_type": "code",
   "execution_count": 8,
   "metadata": {},
   "outputs": [],
   "source": [
    "# Now we have completed the simulation, read the outputs.\n",
    "f = open(\"nbody_output.txt\", \"r\")\n",
    "k = f.readlines()\n",
    "f.close()\n",
    "\n",
    "# # Using plotting software, plot the results of the simulation\n",
    "# for i in range(0, n_body):\n",
    "#     x = []\n",
    "#     y = []\n",
    "#     z = []\n",
    "#     for j in range(1, len(k)):\n",
    "#         x.append(float(k[j].split(\",\")[3*i]))\n",
    "#         y.append(float(k[j].split(\",\")[3*i+1]))\n",
    "#         z.append(float(k[j].split(\",\")[3*i+2]))\n",
    "#     plt.plot(x, y, label=f\"Body {i+1}\")\n",
    "    \n",
    "\n",
    "\n",
    "\n"
   ]
  },
  {
   "cell_type": "code",
   "execution_count": 9,
   "metadata": {},
   "outputs": [],
   "source": [
    "x_coord_lim = 3\n",
    "y_coord_lim = 3\n",
    "\n",
    "\n",
    "fig = plt.figure(figsize=(10, 10))\n",
    "ax = fig.add_subplot(111, projection='3d')\n",
    "\n",
    "# Plot all the values\n",
    "for i in range(0, n_body):\n",
    "    x = []\n",
    "    y = []\n",
    "    z = []\n",
    "    for j in range(1, len(k)):\n",
    "        x.append(float(k[j].split(\",\")[3*i]))\n",
    "        y.append(float(k[j].split(\",\")[3*i+1]))\n",
    "        z.append(float(k[j].split(\",\")[3*i+2]))\n",
    "    ax.plot3D(x, y, z, label=f\"Body {i+1}\")\n",
    "ax.set_xlim(-x_coord_lim, x_coord_lim)\n",
    "ax.set_ylim(-y_coord_lim, y_coord_lim)\n",
    "ax.set_zlim(-y_coord_lim, y_coord_lim)\n",
    "plt.legend()\n",
    "\n",
    "\n",
    "\n",
    "# Rotate the plot\n",
    "ax.view_init(elev=0, azim=0)\n",
    "\n",
    "plt.show(block=False)\n",
    "# Plot all values\n",
    "# for i in range(0, n_body):\n",
    "#     x = []\n",
    "#     y = []\n",
    "#     for j in range(1, len(k)):\n",
    "\n",
    "#         x.append(float(k[j].split(\",\")[3*i]))\n",
    "#         y.append(float(k[j].split(\",\")[3*i+1]))\n",
    "    \n",
    "#     # Plot the inital dot\n",
    "#     plt.scatter(x[0], y[0], label=f\"Body {i+1}\")\n",
    "    \n",
    "#     # Plot a line after the inital dot\n",
    "#     plt.plot(x, y)\n",
    "\n",
    "    \n",
    "\n",
    "# print(x)\n",
    "# print(\"\\n\")\n",
    "# print(y)\n",
    "# fig.grid()\n",
    "# fig.xlabel(\"X position\")\n",
    "# fig.ylabel(\"Y position\")\n",
    "# plt.title(\"N-Body Simulation\")\n",
    "# plt.legend()\n",
    "# plt.xlim(-x_coord_lim, x_coord_lim)\n",
    "# plt.ylim(-y_coord_lim, y_coord_lim)\n",
    "# plt.show()\n"
   ]
  },
  {
   "cell_type": "code",
   "execution_count": 10,
   "metadata": {},
   "outputs": [],
   "source": [
    "# Instead use plotply"
   ]
  }
 ],
 "metadata": {
  "kernelspec": {
   "display_name": "base",
   "language": "python",
   "name": "python3"
  },
  "language_info": {
   "codemirror_mode": {
    "name": "ipython",
    "version": 3
   },
   "file_extension": ".py",
   "mimetype": "text/x-python",
   "name": "python",
   "nbconvert_exporter": "python",
   "pygments_lexer": "ipython3",
   "version": "3.8.8"
  }
 },
 "nbformat": 4,
 "nbformat_minor": 2
}
